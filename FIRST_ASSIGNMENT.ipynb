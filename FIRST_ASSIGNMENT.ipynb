{
 "cells": [
  {
   "cell_type": "code",
   "execution_count": null,
   "id": "9aefdb3d-b1b5-4a6f-8d7f-9495f51072f0",
   "metadata": {},
   "outputs": [],
   "source": [
    "#Q1 explain the key featu$es of Python that make it a popular choice for programming ?\n",
    "\n",
    "#Simple and readable: Python has a simple syntax that is easy to learn and read.\n",
    "#Dynamically Typed: You do not need to explicitly declare variable types.\n",
    "#Extensive libraries: Python has pretty standard libraries like NumPy, Pandas, and so on.\n",
    "#Translated Language: Python is line by line, making debugging easier.\n",
    "#Cross-platform: Python can run on a variety of operating systems including Windows, macOS, and Linux.\n",
    "#Community support: Python has a large and active community, which offers a lot of resources."
   ]
  },
  {
   "cell_type": "code",
   "execution_count": 1,
   "id": "8a18e8eb-ec51-4a2a-ab23-1e6ee57ea0ba",
   "metadata": {},
   "outputs": [
    {
     "name": "stdout",
     "output_type": "stream",
     "text": [
      "10 is less than 15\n",
      "hero\n"
     ]
    }
   ],
   "source": [
    "#Q2 describe the role of predefined keywords in python and provide examples of how they are used in a program ?\n",
    "\n",
    "\n",
    "#Predefined keywords in Python have special meanings and are reserved for specific actions within the language.\n",
    "#Examples include if, else, while, return, and class.\n",
    "\n",
    "i = 20\n",
    "\n",
    "if (i > 15):\n",
    "    print (\"10 is less than 15\")\n",
    "print (\"hero\")\n",
    "\n"
   ]
  },
  {
   "cell_type": "code",
   "execution_count": 2,
   "id": "6b4eb416-860d-408b-8096-421c84af07de",
   "metadata": {},
   "outputs": [
    {
     "name": "stdout",
     "output_type": "stream",
     "text": [
      "[100, 2, 3]\n"
     ]
    }
   ],
   "source": [
    "#Q3 compare and contrast mutable and immutable objects in python with examples ?\n",
    "\n",
    "\n",
    "#Mutable Objects: These are objects that can be modified after their creation. \n",
    "#Examples: lists and dictionaries.\n",
    "\n",
    "my_list = [1, 2, 3]\n",
    "my_list[0] = 100\n",
    "print(my_list)\n"
   ]
  },
  {
   "cell_type": "code",
   "execution_count": 3,
   "id": "3f59c85c-a7d5-419e-b1db-3f81825c4290",
   "metadata": {},
   "outputs": [
    {
     "name": "stdout",
     "output_type": "stream",
     "text": [
      "Hello World\n"
     ]
    }
   ],
   "source": [
    "#Immutable Objects: These cannot be changed after they are created. \n",
    "#Examples: strings, tuples, and integers.\n",
    "\n",
    "my_string = \"Hello\"\n",
    "my_string = my_string + \" World\"\n",
    "print(my_string)\n"
   ]
  },
  {
   "cell_type": "code",
   "execution_count": 5,
   "id": "dde924dd-06d5-4b64-a70c-1f51fb429408",
   "metadata": {},
   "outputs": [
    {
     "name": "stdout",
     "output_type": "stream",
     "text": [
      "6\n"
     ]
    }
   ],
   "source": [
    "#Q4 Discuss the different types of operators in Python and provide examples of how they are used?\n",
    "\n",
    "#1 Arithmetic Operators: +, -, *, /\n",
    "\n",
    "a=2\n",
    "b=4\n",
    "c=(a+b)\n",
    "print(c)\n"
   ]
  },
  {
   "cell_type": "code",
   "execution_count": 6,
   "id": "c7964b3a-daf6-4f32-8c38-8c84d04ccb05",
   "metadata": {},
   "outputs": [
    {
     "name": "stdout",
     "output_type": "stream",
     "text": [
      "False\n"
     ]
    }
   ],
   "source": [
    "#2 Comparison Operators: ==, !=, >, < \n",
    "\n",
    "a=2\n",
    "b=4\n",
    "c=(a>b)\n",
    "print(c)"
   ]
  },
  {
   "cell_type": "code",
   "execution_count": 7,
   "id": "7af002c3-c6ce-4670-a6d7-ab2a680ef4a4",
   "metadata": {},
   "outputs": [
    {
     "name": "stdout",
     "output_type": "stream",
     "text": [
      "4\n"
     ]
    }
   ],
   "source": [
    "#3 Logical Operators: and, or, not \n",
    "\n",
    "a=2\n",
    "b=4\n",
    "c=(a and b)\n",
    "print(c)"
   ]
  },
  {
   "cell_type": "code",
   "execution_count": 8,
   "id": "24798326-a411-4bf6-9a9d-9d9b0baa7c11",
   "metadata": {},
   "outputs": [
    {
     "name": "stdout",
     "output_type": "stream",
     "text": [
      "6\n"
     ]
    }
   ],
   "source": [
    "#4 Assignment Operators: =, +=, -=, *= \n",
    "x = 10\n",
    "x -= 4 \n",
    "print(x)\n"
   ]
  },
  {
   "cell_type": "code",
   "execution_count": 9,
   "id": "738d64da-2d86-4c33-a6e0-7c45a5e88940",
   "metadata": {},
   "outputs": [
    {
     "name": "stdout",
     "output_type": "stream",
     "text": [
      "20\n"
     ]
    }
   ],
   "source": [
    "#5 Bitwise Operators: &, |, ^, ~ \n",
    "\n",
    "result= 18^6\n",
    "print(result)\n"
   ]
  },
  {
   "cell_type": "code",
   "execution_count": 10,
   "id": "e9d756e9-1e29-47a0-b9f9-a53832f0747d",
   "metadata": {},
   "outputs": [
    {
     "data": {
      "text/plain": [
       "int"
      ]
     },
     "execution_count": 10,
     "metadata": {},
     "output_type": "execute_result"
    }
   ],
   "source": [
    "#Q5 Explain the concept of type casting in Python with examples?\n",
    "\n",
    "#Type casting is converting a variable from one data type to another\n",
    "#example:\n",
    "\n",
    "a=\"3\"\n",
    "type(a)\n",
    "type(int(a))\n"
   ]
  },
  {
   "cell_type": "code",
   "execution_count": 11,
   "id": "19fe9e5b-a7a6-4962-9e63-864043692108",
   "metadata": {},
   "outputs": [
    {
     "name": "stdin",
     "output_type": "stream",
     "text": [
      "enter 4\n"
     ]
    },
    {
     "name": "stdout",
     "output_type": "stream",
     "text": [
      "not eligible for voting\n"
     ]
    }
   ],
   "source": [
    "#Q6 How do conditional statements work in Python? Illustrate with examples?\n",
    "\n",
    "#Conditional statements allow decision-making in Python using if, elif, and else.\n",
    "\n",
    "age = int(input(\"enter\"))\n",
    "if age < 18:\n",
    "    print(\"not eligible for voting\")\n",
    "else:\n",
    "    print(\"eligible for voting\")\n",
    "\n"
   ]
  },
  {
   "cell_type": "code",
   "execution_count": 12,
   "id": "f10afabc-00d8-4ec6-839b-7d0e10bfe36b",
   "metadata": {},
   "outputs": [
    {
     "name": "stdout",
     "output_type": "stream",
     "text": [
      "0\n",
      "1\n",
      "2\n",
      "3\n",
      "4\n"
     ]
    }
   ],
   "source": [
    "#Q7 Describe the different types of loops in Python and their use cases with examples\n",
    "\n",
    "#for loop: Used for iterating over a sequence like a list, tuple, or string.\n",
    "\n",
    "i = 7\n",
    "for i in range(5):\n",
    "    print(i)\n",
    "\n"
   ]
  },
  {
   "cell_type": "code",
   "execution_count": 13,
   "id": "826c7290-b5b4-4568-b248-043dd07ea436",
   "metadata": {},
   "outputs": [
    {
     "name": "stdout",
     "output_type": "stream",
     "text": [
      "1\n",
      "2\n",
      "3\n",
      "4\n",
      "5\n"
     ]
    }
   ],
   "source": [
    "#while loop: Repeats a block of code as long as the condition is true.\n",
    "\n",
    "i=1\n",
    "n=5\n",
    "while i <= n:\n",
    "    print(i)\n",
    "    i=i+1"
   ]
  },
  {
   "cell_type": "code",
   "execution_count": null,
   "id": "13dfe6e7-0561-4a2c-ab16-3c4665528836",
   "metadata": {},
   "outputs": [],
   "source": []
  }
 ],
 "metadata": {
  "kernelspec": {
   "display_name": "Python 3 (ipykernel)",
   "language": "python",
   "name": "python3"
  },
  "language_info": {
   "codemirror_mode": {
    "name": "ipython",
    "version": 3
   },
   "file_extension": ".py",
   "mimetype": "text/x-python",
   "name": "python",
   "nbconvert_exporter": "python",
   "pygments_lexer": "ipython3",
   "version": "3.12.4"
  }
 },
 "nbformat": 4,
 "nbformat_minor": 5
}
